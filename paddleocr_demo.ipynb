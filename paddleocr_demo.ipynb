{
 "cells": [
  {
   "cell_type": "markdown",
   "metadata": {},
   "source": [
    "# OCR images in a folder"
   ]
  },
  {
   "cell_type": "code",
   "execution_count": null,
   "metadata": {},
   "outputs": [],
   "source": [
    "# Import dependecies\n",
    "from paddleocr import PaddleOCR, draw_ocr\n",
    "import os"
   ]
  },
  {
   "cell_type": "code",
   "execution_count": null,
   "metadata": {},
   "outputs": [],
   "source": [
    "# Init OCR engine with GPU\n",
    "# Supported lang `ch`, `en`, `fr`, `german`, `korean`, `japan`\n",
    "ocr = PaddleOCR(use_angle_cls=True, lang=\"en\", use_gpu=True)  # need to run only once to download and load model into memory"
   ]
  },
  {
   "cell_type": "code",
   "execution_count": null,
   "metadata": {},
   "outputs": [],
   "source": [
    "from PIL import Image\n",
    "\n",
    "folder_path = 'demo_images'\n",
    "output_path = 'output_images'\n",
    "\n",
    "# Read folder\n",
    "if os.path.exists(folder_path):\n",
    "\tfor file_name in os.listdir(folder_path):\n",
    "\t\tif file_name.endswith('.png') or file_name.endswith('.jpg'): \n",
    "\t\t\tfile_path = os.path.join(folder_path, file_name)\n",
    "\t\t\t# OCR images\n",
    "\t\t\tresult = ocr.ocr(file_path, cls=True)\n",
    "\n",
    "\t\t\t# Display result\n",
    "\t\t\tif result is not None:\n",
    "\t\t\t\tresult = result[0]\n",
    "\t\t\t\tif result is not None:\n",
    "\t\t\t\t\timage = Image.open(file_path).convert('RGB')\n",
    "\t\t\t\t\tboxes = [line[0] for line in result]\n",
    "\t\t\t\t\ttxts = [line[1][0] for line in result]\n",
    "\t\t\t\t\tscores = [line[1][1] for line in result]\n",
    "\t\t\t\t\tim_show = draw_ocr(image, boxes, txts, scores, font_path='./fonts/arial.ttf')\n",
    "\t\t\t\t\tim_show = Image.fromarray(im_show)\n",
    "\t\t\t\t\tif os.path.exists(output_path) == False:\n",
    "\t\t\t\t\t\tos.makedirs(output_path)\n",
    "\t\t\t\t\tim_show.save(f'{output_path}/{file_name}')"
   ]
  },
  {
   "cell_type": "markdown",
   "metadata": {},
   "source": [
    "# Obeservation\n",
    "The performance of paddleocr for detecting text in real world is not good as TrOCR.\n",
    "Some of the demo images cannot be detected and easily get wrong answer."
   ]
  },
  {
   "cell_type": "markdown",
   "metadata": {},
   "source": [
    "# Formal text images OCR"
   ]
  },
  {
   "cell_type": "code",
   "execution_count": null,
   "metadata": {},
   "outputs": [],
   "source": [
    "from PIL import Image\n",
    "\n",
    "folder_path = 'text_images'\n",
    "output_path = 'text_output_images'\n",
    "\n",
    "# Read folder\n",
    "if os.path.exists(folder_path):\n",
    "\tfor file_name in os.listdir(folder_path):\n",
    "\t\tif file_name.endswith('.png') or file_name.endswith('.jpg'): \n",
    "\t\t\tfile_path = os.path.join(folder_path, file_name)\n",
    "\t\t\t# OCR images\n",
    "\t\t\tresult = ocr.ocr(file_path, cls=True)\n",
    "\n",
    "\t\t\t# Display result\n",
    "\t\t\tif result is not None:\n",
    "\t\t\t\tresult = result[0]\n",
    "\t\t\t\tif result is not None:\n",
    "\t\t\t\t\timage = Image.open(file_path).convert('RGB')\n",
    "\t\t\t\t\tboxes = [line[0] for line in result]\n",
    "\t\t\t\t\ttxts = [line[1][0] for line in result]\n",
    "\t\t\t\t\tscores = [line[1][1] for line in result]\n",
    "\t\t\t\t\tim_show = draw_ocr(image, boxes, txts, scores, font_path='./fonts/arial.ttf')\n",
    "\t\t\t\t\tim_show = Image.fromarray(im_show)\n",
    "\t\t\t\t\tif os.path.exists(output_path) == False:\n",
    "\t\t\t\t\t\tos.makedirs(output_path)\n",
    "\t\t\t\t\tim_show.save(f'{output_path}/{file_name}')"
   ]
  },
  {
   "cell_type": "markdown",
   "metadata": {},
   "source": [
    "# Ted talk script images"
   ]
  },
  {
   "cell_type": "code",
   "execution_count": null,
   "metadata": {},
   "outputs": [],
   "source": [
    "from PIL import Image\n",
    "from ocr2word import Write_Result_to_Word\n",
    "\n",
    "folder_path = 'ted_talk_images'\n",
    "output_path = 'ted_talk_output_images'\n",
    "\n",
    "# Read folder\n",
    "if os.path.exists(folder_path):\n",
    "\tfor file_name in os.listdir(folder_path):\n",
    "\t\tif file_name.endswith('.png') or file_name.endswith('.jpg'): \n",
    "\t\t\tfile_path = os.path.join(folder_path, file_name)\n",
    "\t\t\t# OCR images\n",
    "\t\t\tresult = ocr.ocr(file_path, cls=True)\n",
    "\n",
    "\t\t\t# Display result\n",
    "\t\t\tif result is not None:\n",
    "\t\t\t\tresult = result[0]\n",
    "\t\t\t\tif result is not None:\n",
    "\t\t\t\t\timage = Image.open(file_path).convert('RGB')\n",
    "\t\t\t\t\tboxes = [line[0] for line in result]\n",
    "\t\t\t\t\ttxts = [line[1][0] for line in result]\n",
    "\t\t\t\t\tscores = [line[1][1] for line in result]\n",
    "\t\t\t\t\tim_show = draw_ocr(image, boxes, txts, scores, font_path='./fonts/arial.ttf')\n",
    "\t\t\t\t\tim_show = Image.fromarray(im_show)\n",
    "\t\t\t\t\tif os.path.exists(output_path) == False:\n",
    "\t\t\t\t\t\tos.makedirs(output_path)\n",
    "\t\t\t\t\tim_show.save(f'{output_path}/{file_name}')\n",
    "\n",
    "\t\t\t\t\t# Save result to word\n",
    "\t\t\t\t\tWrite_Result_to_Word(result, f'{output_path}/{os.path.splitext(file_name)[0]}.docx')"
   ]
  },
  {
   "cell_type": "code",
   "execution_count": null,
   "metadata": {},
   "outputs": [],
   "source": []
  }
 ],
 "metadata": {
  "kernelspec": {
   "display_name": "paddle-venv",
   "language": "python",
   "name": "python3"
  },
  "language_info": {
   "codemirror_mode": {
    "name": "ipython",
    "version": 3
   },
   "file_extension": ".py",
   "mimetype": "text/x-python",
   "name": "python",
   "nbconvert_exporter": "python",
   "pygments_lexer": "ipython3",
   "version": "3.10.12"
  }
 },
 "nbformat": 4,
 "nbformat_minor": 2
}
